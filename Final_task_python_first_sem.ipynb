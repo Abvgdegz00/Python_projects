{
 "cells": [
  {
   "cell_type": "markdown",
   "metadata": {},
   "source": [
    "# Задание №1"
   ]
  },
  {
   "cell_type": "markdown",
   "metadata": {},
   "source": [
    "Дан текстовый файл, каждое предложение которого занимает одну строку. Напишите программу, которая разделяет текст на блоки — каждый блок состоит из нескольких предложений. Затем переворачивает порядок слов только внутри каждого предложения, не меняя порядок самих предложений в блоке."
   ]
  },
  {
   "cell_type": "code",
   "execution_count": 2,
   "metadata": {},
   "outputs": [
    {
     "name": "stdout",
     "output_type": "stream",
     "text": [
      "дела как Привет\n",
      "дождь идет улице На\n",
      "программирование люблю Я\n"
     ]
    }
   ],
   "source": [
    "# Создаем файл\n",
    "with open('input.txt', 'w') as f:\n",
    "    f.write('Привет как дела\\nНа улице идет дождь\\nЯ люблю программирование')\n",
    "    \n",
    "# Открываем файл созданный ранее\n",
    "with open('input.txt', 'r') as input_file:\n",
    "    for line in input_file:\n",
    "        print(' '.join(line.split()[::-1]))"
   ]
  },
  {
   "cell_type": "markdown",
   "metadata": {},
   "source": [
    "# Задание №2"
   ]
  },
  {
   "cell_type": "markdown",
   "metadata": {},
   "source": [
    "Напишите функцию, которая принимает строку и сжимает её определённым образом. Строки содержат произвольные символы, включая пробелы и спецсимволы, и требуют точного учета длины при кодировании. Сжатие строки происходит сериями одинаковых символов в формате \"символ\"+\"количество\", но только если длина сжатой строки не превышает исходную."
   ]
  },
  {
   "cell_type": "code",
   "execution_count": 3,
   "metadata": {},
   "outputs": [
    {
     "name": "stdout",
     "output_type": "stream",
     "text": [
      "Ответ: a1b2c3d4\n"
     ]
    }
   ],
   "source": [
    "from collections import Counter\n",
    "def func(a):\n",
    "    # Преобразуем в Counter для подсчета каждого элемента\n",
    "    count_a = Counter(a)\n",
    "    res = ''.join([f'{i}{count_a[i]}' for i in count_a])\n",
    "\n",
    "    # Проверка на условие размерности\n",
    "    if len(res) < len(a):\n",
    "        print(f'Ответ: {res}')\n",
    "    else:\n",
    "        print(f'Ответ: {a}')\n",
    "\n",
    "a = 'abbcccdddd'\n",
    "func(a)"
   ]
  },
  {
   "cell_type": "markdown",
   "metadata": {},
   "source": [
    "# Задание №3"
   ]
  },
  {
   "cell_type": "markdown",
   "metadata": {},
   "source": [
    "Реализуйте функцию, которая проверяет, правильно ли расставлены скобки в строке (включая круглые, квадратные и фигурные скобки)."
   ]
  },
  {
   "cell_type": "code",
   "execution_count": 4,
   "metadata": {},
   "outputs": [
    {
     "name": "stdout",
     "output_type": "stream",
     "text": [
      "Ошибка! Лишняя закрывающая скобка }\n"
     ]
    }
   ],
   "source": [
    "def func(a):\n",
    "    # Создаем стек\n",
    "    res = []\n",
    "\n",
    "    # Создаем переменные, необходимые для проверки\n",
    "    open_br = '([{'\n",
    "    close_br = ')]}'\n",
    "    bracket_map = {')': '(', ']': '[', '}': '{'}\n",
    "\n",
    "    # Проверяем каждый символ в вводе\n",
    "    for item in a:\n",
    "        # Если текущая скобка открывающая, то добавляем ее в стек\n",
    "        if item in open_br:\n",
    "            res.append(item)\n",
    "\n",
    "        # Если текущая скобка закрывающая\n",
    "        elif item in close_br:\n",
    "\n",
    "            # Если скобки совпадают, то убираем соответствующую открывающую из стека\n",
    "            if res and bracket_map[item] == res[-1]:\n",
    "                res.pop()\n",
    "\n",
    "            # Если стек пустой, но встретили закрывающую скобку или скобки не совпадают, то прерываем цикл и выводим сообщение об ошибке\n",
    "            elif not res or bracket_map[item] != res[-1]:\n",
    "                print(f'Ошибка! Лишняя закрывающая скобка {item}')\n",
    "                return\n",
    "            \n",
    "    # Проверяем стек после завершения цикла, если остались незакрытые скобки, то выводим сообщение об ошибке      \n",
    "    if res:\n",
    "        print(f'Ошибка! Не хватает закрывающей скобки для {res[-1]}')\n",
    "    # Если стек пуст, значит все нормально\n",
    "    else:\n",
    "        print('Скобки расставлены правильно')\n",
    "    \n",
    "a = '(()}'\n",
    "func(a)"
   ]
  },
  {
   "cell_type": "markdown",
   "metadata": {},
   "source": [
    "# Задание №4"
   ]
  },
  {
   "cell_type": "markdown",
   "metadata": {},
   "source": [
    "Напишите функцию, которая генерирует пароль заданной длины. В реализации надо учитывать, что:\n",
    "\n",
    "* Пароль должен содержать буквы, цифры и специальные символы.\n",
    "* Длина пароля задается пользователем."
   ]
  },
  {
   "cell_type": "code",
   "execution_count": 5,
   "metadata": {},
   "outputs": [
    {
     "name": "stdout",
     "output_type": "stream",
     "text": [
      "Пароль: F}))D%c{\n"
     ]
    }
   ],
   "source": [
    "import numpy as np\n",
    "import string\n",
    "\n",
    "def pass_gen(len_pass):\n",
    "    # Создаем массив всех символов из которых может состоять пароль\n",
    "    a = np.array(list(string.hexdigits + string.punctuation))\n",
    "\n",
    "    # Создаем пароль выбирая случайные значения из массива \n",
    "    password = ''.join(np.random.choice(a, size=len_pass))\n",
    "    print(f'Пароль: {password}')\n",
    "\n",
    "# Получаем от пользователя требуемую длину пароля\n",
    "len_pass = int(input('Введите требуемую длину пароля:'))\n",
    "pass_gen(len_pass)"
   ]
  },
  {
   "cell_type": "markdown",
   "metadata": {},
   "source": [
    "# Задание №5"
   ]
  },
  {
   "cell_type": "markdown",
   "metadata": {},
   "source": [
    "Напишите класс для симуляции работы электронной очереди, например, в банке.\n",
    "\n",
    "Критерии оценки:\n",
    "\n",
    "* Система должна поддерживать добавление клиентов с указанием их приоритета (например, VIP, обычный) — 1 балл.\n",
    "* Выбор клиента для следующей обработки должен учитывать приоритет — 1 балл.\n",
    "* Реализуйте отчет для администрации с информацией, сколько времени заняло обслуживание клиентов — 4 балла."
   ]
  },
  {
   "cell_type": "code",
   "execution_count": null,
   "metadata": {},
   "outputs": [],
   "source": [
    "class Client:\n",
    "    # Инициализируем клиента с его данными: имя, приоритет, время обслуживания\n",
    "    def __init__(self, name, priority, service_time):\n",
    "        self.name = name\n",
    "        self.priority = priority\n",
    "        self.service_time = service_time\n",
    "        self.start_time = None\n",
    "        self.end_time = None\n",
    "\n",
    "    # Запускаем обслуживание клиента, записываем время начала\n",
    "    def start_service(self):\n",
    "        self.start_time = 0\n",
    "\n",
    "    # Завершаем обслуживание клиента, записываем время окончания\n",
    "    def end_service(self):\n",
    "        self.end_time = self.service_time\n",
    "\n",
    "    # Возвращаем продолжительность обслуживания\n",
    "    def get_service_duration(self):\n",
    "        if self.start_time is not None and self.end_time is not None:\n",
    "            return self.end_time\n",
    "        return 0\n",
    "\n",
    "class Queue:\n",
    "    # Инициализируем очередь клиентов\n",
    "    def __init__(self):\n",
    "        self.clients = []\n",
    "        self.report = []\n",
    "\n",
    "    # Добавляем клиента в очередь с указанием его приоритета\n",
    "    def add_client(self, client):\n",
    "        self.clients.append(client)\n",
    "\n",
    "    # Обрабатываем следующего клиента с учетом приоритета\n",
    "    def process_next_client(self):\n",
    "        # Если очередь пуста\n",
    "        if not self.clients:\n",
    "            print(\"Очередь пуста.\")\n",
    "            return\n",
    "\n",
    "        # Сортируем клиентов: сначала VIP, потом обычные\n",
    "        self.clients.sort(key=lambda x: x.priority == 'VIP', reverse=True)\n",
    "        \n",
    "        # Берем клиента с наивысшим приоритетом\n",
    "        current_client = self.clients.pop(0)\n",
    "\n",
    "        # Начинаем обслуживание клиента\n",
    "        current_client.start_service()\n",
    "        print(f\"Обслуживаем клиента: {current_client.name} (Приоритет: {current_client.priority})\")\n",
    "\n",
    "        # Завершаем обслуживание клиента\n",
    "        current_client.end_service()\n",
    "        print(f\"Обслуживание клиента {current_client.name} завершено.\")\n",
    "        \n",
    "        # Добавляем информацию о времени обслуживания в отчет\n",
    "        self.report.append({\n",
    "            \"client_name\": current_client.name,\n",
    "            \"priority\": current_client.priority,\n",
    "            \"service_time\": current_client.get_service_duration()\n",
    "        })\n",
    "\n",
    "    # Генерируем отчет о времени обслуживания всех клиентов\n",
    "    def generate_report(self):\n",
    "        print(\"\\nОтчет о времени обслуживания:\")\n",
    "        for entry in self.report:\n",
    "            print(f\"Клиент: {entry['client_name']}, \"\n",
    "                  f\"Приоритет: {entry['priority']}, \"\n",
    "                  f\"Время обслуживания: {entry['service_time']} секунд\")\n",
    "        \n",
    "        # Вычисляем общее время обслуживания всех клиентов\n",
    "        total_time = sum(entry['service_time'] for entry in self.report)\n",
    "        print(f\"Общее время обслуживания всех клиентов: {total_time} секунд\")"
   ]
  },
  {
   "cell_type": "code",
   "execution_count": 37,
   "metadata": {},
   "outputs": [
    {
     "name": "stdout",
     "output_type": "stream",
     "text": [
      "Обслуживаем клиента: Клиент 2 (Приоритет: VIP)\n",
      "Обслуживание клиента Клиент 2 завершено.\n",
      "Обслуживаем клиента: Клиент 4 (Приоритет: VIP)\n",
      "Обслуживание клиента Клиент 4 завершено.\n",
      "Обслуживаем клиента: Клиент 1 (Приоритет: Normal)\n",
      "Обслуживание клиента Клиент 1 завершено.\n",
      "Обслуживаем клиента: Клиент 3 (Приоритет: Normal)\n",
      "Обслуживание клиента Клиент 3 завершено.\n",
      "\n",
      "Отчет о времени обслуживания:\n",
      "Клиент: Клиент 2, Приоритет: VIP, Время обслуживания: 2 секунд\n",
      "Клиент: Клиент 4, Приоритет: VIP, Время обслуживания: 4 секунд\n",
      "Клиент: Клиент 1, Приоритет: Normal, Время обслуживания: 3 секунд\n",
      "Клиент: Клиент 3, Приоритет: Normal, Время обслуживания: 5 секунд\n",
      "Общее время обслуживания всех клиентов: 14 секунд\n"
     ]
    }
   ],
   "source": [
    "# Пример использования\n",
    "queue = Queue()\n",
    "\n",
    "# Добавляем клиентов с разными приоритетами\n",
    "queue.add_client(Client(\"Клиент 1\", \"Normal\", 3))\n",
    "queue.add_client(Client(\"Клиент 2\", \"VIP\", 2))\n",
    "queue.add_client(Client(\"Клиент 3\", \"Normal\", 5))\n",
    "queue.add_client(Client(\"Клиент 4\", \"VIP\", 4))\n",
    "\n",
    "# Обрабатываем клиентов\n",
    "queue.process_next_client()\n",
    "queue.process_next_client()\n",
    "queue.process_next_client()\n",
    "queue.process_next_client()\n",
    "\n",
    "# Генерируем отчет\n",
    "queue.generate_report()"
   ]
  },
  {
   "cell_type": "markdown",
   "metadata": {},
   "source": [
    "# Задание №6"
   ]
  },
  {
   "cell_type": "markdown",
   "metadata": {},
   "source": [
    "Напишите программу, которая проверяет, является ли строка палиндромом или «почти палиндромом». «Почти палиндром» означает, что можно удалить одну букву, чтобы строка стала палиндромом."
   ]
  },
  {
   "cell_type": "code",
   "execution_count": 31,
   "metadata": {},
   "outputs": [
    {
     "name": "stdout",
     "output_type": "stream",
     "text": [
      "Это палиндром\n"
     ]
    }
   ],
   "source": [
    "a = 'Проверка акреворп'\n",
    "\n",
    "# Приводим строку к необходимому для проверки формату\n",
    "a = a.replace(' ','')\n",
    "a = a.lower()\n",
    "\n",
    "# Проверка на обычный палиндром\n",
    "if a == a[::-1]:\n",
    "    print('Это палиндром')\n",
    "\n",
    "# Если проверка на обычный палиндром не пройдена\n",
    "else:\n",
    "    # Удаляем символ и проверяем станет ли после этого строка палиндромом\n",
    "    for i in range(len(a)):\n",
    "        res = a[:i] + a[i+1:]\n",
    "        if res == res[::-1]:\n",
    "            print('Это \"почти палиндром\"')\n",
    "            break\n",
    "\n",
    "    # Если не нашли \"почти палиндром\"\n",
    "    else:\n",
    "        print('Это не палиндром и не \"почти палиндром\"')"
   ]
  },
  {
   "cell_type": "markdown",
   "metadata": {},
   "source": [
    "# Задание №7"
   ]
  },
  {
   "cell_type": "markdown",
   "metadata": {},
   "source": [
    "Разработайте программу, которая «стирает» фрагменты текста в файле.  \n",
    "Например:\n",
    "\n",
    "1. Пользователь указывает файл и процент текста, который нужно удалить (например, 30%).\n",
    "2. Программа случайно выбирает слова или части абзацев и заменяет их на пробел или ..., сохраняя общий объем документа.  \n",
    "\n",
    "Вход:  \n",
    "«Сегодня солнечный день, и я собираюсь гулять в парке с моими друзьями.»\n",
    "\n",
    "Вывод (удалено ~30%):  \n",
    "«Сегодня ... день, и я собираюсь гулять ... моими друзьями.»"
   ]
  },
  {
   "cell_type": "code",
   "execution_count": 4,
   "metadata": {},
   "outputs": [
    {
     "name": "stdout",
     "output_type": "stream",
     "text": [
      "Содержимое файла до редактирования:\n",
      "Сегодня солнечный день, и я собираюсь гулять в парке с моими друзьями.\n",
      "\n",
      "Было удалено ~30% текста: ... солнечный день, и ... собираюсь гулять в парке с ... друзьями.\n"
     ]
    }
   ],
   "source": [
    "import re\n",
    "import random\n",
    "\n",
    "# Читаем содержимое файла\n",
    "with open('input.txt', 'r') as input_file:\n",
    "    content = input_file.read()\n",
    "    print(\"Содержимое файла до редактирования:\")\n",
    "    print(content)\n",
    "\n",
    "# Пользователь вводит число, которое обозначает процент текста, который надо удалить\n",
    "delete_percentage = int(input('Введите процент текста для удаления\\n'))\n",
    "\n",
    "# Считаем сколько всего слов в тексте\n",
    "num_words = len(content.split())\n",
    "words = content.split()\n",
    "\n",
    "# Считаем сколько слов нужно удалить из текста\n",
    "delete_num = round(num_words * (delete_percentage)/100)\n",
    "\n",
    "# Составляем список случайных слов для удаления\n",
    "delete_words = random.sample(words, delete_num)\n",
    "\n",
    "for word in delete_words:\n",
    "    # Используем регулярное выражение для поиска целых слов и замены их на '...'\n",
    "    content = re.sub(r'\\b' + re.escape(word) + r'\\b', '...', content, count=1)\n",
    "\n",
    "print(f'\\nБыло удалено ~{delete_percentage}% текста: {content}')"
   ]
  }
 ],
 "metadata": {
  "kernelspec": {
   "display_name": "Python 3",
   "language": "python",
   "name": "python3"
  },
  "language_info": {
   "codemirror_mode": {
    "name": "ipython",
    "version": 3
   },
   "file_extension": ".py",
   "mimetype": "text/x-python",
   "name": "python",
   "nbconvert_exporter": "python",
   "pygments_lexer": "ipython3",
   "version": "3.10.6"
  }
 },
 "nbformat": 4,
 "nbformat_minor": 2
}
